{
 "cells": [
  {
   "cell_type": "code",
   "execution_count": 35,
   "metadata": {},
   "outputs": [
    {
     "name": "stdout",
     "output_type": "stream",
     "text": [
      "(<class '__main__.F'>, <class '__main__.E'>, <class '__main__.C'>, <class '__main__.B'>, <class '__main__.A'>, <class 'object'>)\n",
      "F\n",
      "<super: <class 'F'>, <F object>>\n",
      "E\n",
      "<super: <class 'C'>, <F object>>\n",
      "B\n"
     ]
    }
   ],
   "source": [
    "class A(object):\n",
    "    def f(self):\n",
    "        print('A')\n",
    "        \n",
    "class B(A):\n",
    "    def f(self):\n",
    "        print('B')\n",
    "\n",
    "class C(A):\n",
    "    def f(self):\n",
    "        print('C')\n",
    "\n",
    "class D(B, C):\n",
    "    def f(self):\n",
    "        print('D')\n",
    "        super(D, self).f()\n",
    "        \n",
    "\n",
    "class E(C, B):\n",
    "    def f(self):\n",
    "        print('E')\n",
    "        print(super(C, self))\n",
    "        super(C, self).f()\n",
    "\n",
    "class F(E, B, A):\n",
    "    def f(self):\n",
    "        print('F')\n",
    "        print(super(F, self))\n",
    "        super(F, self).f()\n",
    "        \n",
    "# d = D()\n",
    "# print(D.__mro__)\n",
    "# d.f()\n",
    "\n",
    "f = F()\n",
    "print(F.__mro__)\n",
    "f.f()"
   ]
  },
  {
   "cell_type": "code",
   "execution_count": 40,
   "metadata": {},
   "outputs": [
    {
     "data": {
      "text/plain": [
       "28"
      ]
     },
     "execution_count": 40,
     "metadata": {},
     "output_type": "execute_result"
    }
   ],
   "source": [
    "import sys\n",
    "sys.getsizeof(1)"
   ]
  },
  {
   "cell_type": "code",
   "execution_count": 41,
   "metadata": {},
   "outputs": [
    {
     "data": {
      "text/plain": [
       "(10914496, 10914528)"
      ]
     },
     "execution_count": 41,
     "metadata": {},
     "output_type": "execute_result"
    }
   ],
   "source": [
    "id(1),id(2)"
   ]
  },
  {
   "cell_type": "code",
   "execution_count": 42,
   "metadata": {},
   "outputs": [
    {
     "data": {
      "text/plain": [
       "140670159149832"
      ]
     },
     "execution_count": 42,
     "metadata": {},
     "output_type": "execute_result"
    }
   ],
   "source": [
    "id([1,2,3])"
   ]
  },
  {
   "cell_type": "code",
   "execution_count": 47,
   "metadata": {},
   "outputs": [
    {
     "name": "stdout",
     "output_type": "stream",
     "text": [
      "140670701772872\n",
      "140670518783240\n"
     ]
    }
   ],
   "source": [
    "def f():\n",
    "    q = ()\n",
    "    print(id(q))\n",
    "    pass\n",
    "f()\n",
    "print(id(f))"
   ]
  },
  {
   "cell_type": "code",
   "execution_count": 51,
   "metadata": {},
   "outputs": [
    {
     "data": {
      "text/plain": [
       "(461, 1, 9)"
      ]
     },
     "execution_count": 51,
     "metadata": {},
     "output_type": "execute_result"
    }
   ],
   "source": [
    "import gc\n",
    "gc.get_count()"
   ]
  },
  {
   "cell_type": "code",
   "execution_count": 61,
   "metadata": {},
   "outputs": [
    {
     "name": "stdout",
     "output_type": "stream",
     "text": [
      "/home/ubuntu/notebook\n",
      "/home\n",
      ".xz my.cnf.tar ['.cnf', '.tar', '.xz']\n"
     ]
    }
   ],
   "source": [
    "import pathlib\n",
    "p = pathlib.Path('/home/ubuntu')\n",
    "print(p / 'notebook')\n",
    "print(p.parents[0])\n",
    "# Path('new.txt').touch()\n",
    "p = pathlib.Path('/usr/local/etc/my.cnf.tar.xz')\n",
    "print(p.suffix, p.stem, p.suffixes)"
   ]
  },
  {
   "cell_type": "code",
   "execution_count": 66,
   "metadata": {},
   "outputs": [
    {
     "name": "stdout",
     "output_type": "stream",
     "text": [
      "7.480674743652344\n"
     ]
    }
   ],
   "source": [
    "import time\n",
    "def t():\n",
    "    a = time.time()\n",
    "    i = 0\n",
    "    sum = i\n",
    "    while i <= 87654321:\n",
    "        i += 1\n",
    "        sum += i\n",
    "    print(time.time() - a)\n",
    "t()"
   ]
  },
  {
   "cell_type": "code",
   "execution_count": 81,
   "metadata": {},
   "outputs": [
    {
     "name": "stdout",
     "output_type": "stream",
     "text": [
      "<str_iterator object at 0x7ff051ab2898>\n",
      "[('name', 'hh')]\n"
     ]
    }
   ],
   "source": [
    "print(iter('23423'))\n",
    "print(list(dict(name='hh').items()))"
   ]
  },
  {
   "cell_type": "code",
   "execution_count": 91,
   "metadata": {},
   "outputs": [
    {
     "data": {
      "text/plain": [
       "'\\x02'"
      ]
     },
     "execution_count": 91,
     "metadata": {},
     "output_type": "execute_result"
    }
   ],
   "source": [
    "chr(2).encode('utf8').decode('utf8')"
   ]
  },
  {
   "cell_type": "code",
   "execution_count": 113,
   "metadata": {},
   "outputs": [
    {
     "name": "stdout",
     "output_type": "stream",
     "text": [
      "functools.partial(<class 'map'>, operator.methodcaller('to_bytes', 1, 'big'))\n",
      "[b'3', b'3', b'3']\n",
      "[3, 3, 3, 3]\n"
     ]
    }
   ],
   "source": [
    "import operator\n",
    "import functools\n",
    "int_to_byte = operator.methodcaller('to_bytes', 1, 'big')\n",
    "iter_bytes = functools.partial(map, int_to_byte)\n",
    "print(iter_bytes)\n",
    "print(list(iter_bytes(bytes('333', encoding='utf-8'))))\n",
    "print(list(map(int, '3333')))"
   ]
  },
  {
   "cell_type": "code",
   "execution_count": 124,
   "metadata": {},
   "outputs": [
    {
     "data": {
      "text/plain": [
       "True"
      ]
     },
     "execution_count": 124,
     "metadata": {},
     "output_type": "execute_result"
    }
   ],
   "source": [
    "((0b11) & (1)) == 1"
   ]
  },
  {
   "cell_type": "code",
   "execution_count": 140,
   "metadata": {},
   "outputs": [
    {
     "name": "stdout",
     "output_type": "stream",
     "text": [
      "abd..e..cf..."
     ]
    }
   ],
   "source": [
    "f = \"dbeafc\"  # [\"d\", \"b\", \"e\", \"a\", \"f\", \"c\"]\n",
    "m = \"abdecf\"  #[\"a\", \"b\", \"d\", \"e\", \"c\", \"f\"]\n",
    "b = \"cfaebd\"  # [\"c\", \"f\", \"a\", \"e\", \"b\", \"d\"]\n",
    "\n",
    "class Node:\n",
    "    def __init__(self, value, left=None, right=None):\n",
    "        self.value = value\n",
    "        self.left = left\n",
    "        self.right = right\n",
    "    \n",
    "def print_tree(node):\n",
    "    if node is not None:\n",
    "        print(node.value, end=\"\")\n",
    "        print_tree(node.left)\n",
    "        print_tree(node.right)\n",
    "            \n",
    "# 生成补充二叉树           \n",
    "def g_tree(f, m):\n",
    "    if len(f) != len(m):\n",
    "        raise ValueError\n",
    "    if len(f) == 0:\n",
    "        return Node(\".\")\n",
    "    elif len(f) == 1:\n",
    "        return Node(m[0], Node(\".\"), Node(\".\"))\n",
    "    else:\n",
    "        lf, rf = f.split(m[0])\n",
    "        lm, rm = m[1:1+len(lf)], m[1+len(lf):]\n",
    "        return Node(m[0], g_tree(lf, lm), g_tree(rf, rm))\n",
    "    \n",
    "print_tree(g_tree(f, m))\n",
    "# 先序和后序遍历寻找子树 找到 k 使得 f = lf + k + rf, b = rb + k + lb 且 set(lf) == set(lb), set(rf) == set(rb) 说明 k 是父节点，左右分别是子树遍历\n",
    "\n",
    "# ?? 根据补充二叉树遍历生产二叉树\n",
    "e = \"abd..e..cf...\"\n",
    "\n"
   ]
  },
  {
   "cell_type": "code",
   "execution_count": 134,
   "metadata": {},
   "outputs": [
    {
     "name": "stdout",
     "output_type": "stream",
     "text": [
      "['a', 'b', 'd', <__main__.Node object at 0x7ff051b1d400>, <__main__.Node object at 0x7ff051b1d550>, 'e', <__main__.Node object at 0x7ff051b1d470>, <__main__.Node object at 0x7ff051b1d630>, 'c', 'f', <__main__.Node object at 0x7ff051b1d6a0>, <__main__.Node object at 0x7ff051b1d710>, <__main__.Node object at 0x7ff051b1d780>]\n",
      "['a', 'b', <__main__.Node object at 0x7ff051b11c50>, 'e', <__main__.Node object at 0x7ff051b1d470>, <__main__.Node object at 0x7ff051b1d630>, 'c', 'f', <__main__.Node object at 0x7ff051b1d6a0>, <__main__.Node object at 0x7ff051b1d710>, <__main__.Node object at 0x7ff051b1d780>]\n",
      "['a', 'b', <__main__.Node object at 0x7ff051b11c50>, <__main__.Node object at 0x7ff051b110b8>, 'c', 'f', <__main__.Node object at 0x7ff051b1d6a0>, <__main__.Node object at 0x7ff051b1d710>, <__main__.Node object at 0x7ff051b1d780>]\n",
      "['a', 'b', <__main__.Node object at 0x7ff051b11c50>, <__main__.Node object at 0x7ff051b110b8>, 'c', <__main__.Node object at 0x7ff051b1aa20>, <__main__.Node object at 0x7ff051b1d780>]\n",
      "['a', <__main__.Node object at 0x7ff051a66a90>, 'c', <__main__.Node object at 0x7ff051b1aa20>, <__main__.Node object at 0x7ff051b1d780>]\n",
      "['a', <__main__.Node object at 0x7ff051a66a90>, <__main__.Node object at 0x7ff051a66a20>]\n",
      "abdecf\n"
     ]
    }
   ],
   "source": [
    "class Node:\n",
    "    def __init__(self, value, left=None, right=None):\n",
    "        self.value = value\n",
    "        self.left = left\n",
    "        self.right = right\n",
    "\n",
    "\n",
    "def traversal(a):\n",
    "    if a.value is not None:\n",
    "        print(a.value, end=\"\")\n",
    "        traversal(a.left)\n",
    "        traversal(a.right)\n",
    "\n",
    "\n",
    "\n",
    "tree_str = \"abd..e..cf...\"\n",
    "\n",
    "def transfer(tree_str):\n",
    "    tree_list = list(tree_str)\n",
    "    for i in range(len(tree_list)):\n",
    "        if tree_list[i] == \".\":\n",
    "            tree_list[i] = Node(None)\n",
    "\n",
    "    i = 0\n",
    "    while len(tree_list) > 1:\n",
    "        if isinstance(tree_list[i+1], Node) and isinstance(tree_list[i+2], Node):\n",
    "            print(tree_list)\n",
    "            tree_list[i] = Node(tree_list[i], tree_list[i+1], tree_list[i+2])\n",
    "            tree_list.pop(i+2)\n",
    "            tree_list.pop(i+1)\n",
    "\n",
    "        if i < len(tree_list) - 3:\n",
    "            i += 1\n",
    "        else:\n",
    "            i = 0\n",
    "\n",
    "    return tree_list[0]\n",
    "\n",
    "\n",
    "traversal(transfer(tree_str))\n",
    "print(\"\")\n"
   ]
  },
  {
   "cell_type": "code",
   "execution_count": 135,
   "metadata": {},
   "outputs": [
    {
     "name": "stdout",
     "output_type": "stream",
     "text": [
      "1.7320508075688774\n"
     ]
    }
   ],
   "source": [
    "# 牛顿开方\n",
    "def sqrt(x):\n",
    "    z = x\n",
    "    for i in range(10):\n",
    "        z -= (z * z - x) / (2 * z)\n",
    "    return z\n",
    "print(sqrt(3))"
   ]
  },
  {
   "cell_type": "code",
   "execution_count": 22,
   "metadata": {},
   "outputs": [
    {
     "name": "stdout",
     "output_type": "stream",
     "text": [
      "求和:  45\n"
     ]
    }
   ],
   "source": [
    "# yield from 委托生成器 \n",
    "# 帮助调用者处理生成器各种异常\n",
    "# 调用者到生成器建立双向通道\n",
    "\n",
    "def proxy_gen():\n",
    "    while True:\n",
    "        res = yield from gen_func()\n",
    "        print(\"求和: \", res)\n",
    "\n",
    "def gen_func():\n",
    "    total = 0\n",
    "    while True:\n",
    "        data = yield total\n",
    "        if data is None:\n",
    "            break\n",
    "        total += data\n",
    "    return total\n",
    "\n",
    "def main():\n",
    "    gen = proxy_gen()\n",
    "    next(gen)\n",
    "    for i in range(10):\n",
    "        gen.send(i)\n",
    "    gen.send(None)\n",
    "\n",
    "main()"
   ]
  },
  {
   "cell_type": "code",
   "execution_count": 19,
   "metadata": {},
   "outputs": [
    {
     "name": "stdout",
     "output_type": "stream",
     "text": [
      "123456789"
     ]
    }
   ],
   "source": [
    "# 迭代可迭代对象\n",
    "from collections import Iterable\n",
    "def mchain(*iters):\n",
    "    for i in iters:\n",
    "        if isinstance(i, Iterable):\n",
    "            yield from i\n",
    "        else:\n",
    "            yield i\n",
    "        \n",
    "for a in mchain([1, 2, 3], 4, range(5,10)):\n",
    "    print(a, end=\"\")"
   ]
  },
  {
   "cell_type": "code",
   "execution_count": 27,
   "metadata": {},
   "outputs": [
    {
     "name": "stdout",
     "output_type": "stream",
     "text": [
      "None\n",
      "asdf\n"
     ]
    }
   ],
   "source": [
    "class User:\n",
    "    def __init__(self, name, age):\n",
    "        self.name = name\n",
    "        self.age = age\n",
    "        self._hh = None\n",
    "        \n",
    "    @property\n",
    "    def hh(self):\n",
    "        return self._hh\n",
    "    \n",
    "    @hh.setter\n",
    "    def hh(self, value):\n",
    "        self._hh = value\n",
    "        \n",
    "        \n",
    "u = User(\"xiaohei\", 23)\n",
    "print(u.hh)\n",
    "u.hh = \"asdf\"\n",
    "print(u.hh)"
   ]
  },
  {
   "cell_type": "code",
   "execution_count": null,
   "metadata": {},
   "outputs": [],
   "source": [
    "# 元类实现orm\n",
    "# 数据描述符\n",
    "class Field:\n",
    "    def __init__(self, column=None):\n",
    "        self._value = None\n",
    "        self.column = column\n",
    "\n",
    "    def __get__(self, instance, owner):\n",
    "        return self._value\n",
    "\n",
    "\n",
    "class CharField(Field):\n",
    "    def __init__(self, column=None, max_len=None):\n",
    "        self.max_len = max_len\n",
    "        super(CharField, self).__init__(column)\n",
    "\n",
    "    def __set__(self, instance, value):\n",
    "        if not isinstance(value, str):\n",
    "            raise ValueError(\"Not str\")\n",
    "        self._value = value\n",
    "\n",
    "\n",
    "class IntField(Field):\n",
    "    def __set__(self, instance, value):\n",
    "        if not isinstance(value, int):\n",
    "            raise ValueError(\"Not int\")\n",
    "        self._value = value\n",
    "\n",
    "\n",
    "# Model\n",
    "class ModelMeta(type):\n",
    "    def __new__(cls, name, bases, attrs, **kwargs):\n",
    "        # type(name, bases, dict) -> a new type\n",
    "        if name == \"BaseModel\":\n",
    "            return super().__new__(cls, name, bases, attrs, **kwargs)\n",
    "        attrs[\"fields\"] = {}\n",
    "        attrs[\"_meta\"] = {}\n",
    "        for k, v in attrs.items():\n",
    "            if isinstance(v, Field):\n",
    "                attrs[\"fields\"][k] = v\n",
    "        attr_meta = attrs.get(\"Meta\")\n",
    "        if hasattr(attr_meta, \"db_table\"):\n",
    "            attrs[\"_meta\"][\"db_table\"] = attr_meta.db_table\n",
    "        else:\n",
    "            attrs[\"_meta\"][\"db_table\"] = name.lower()\n",
    "        del attrs[\"Meta\"]\n",
    "        return super().__new__(cls, name, bases, attrs, **kwargs)\n",
    "\n",
    "\n",
    "class BaseModel(metaclass=ModelMeta):\n",
    "    def __init__(self, *args, **kwargs):\n",
    "        for k, v in kwargs.items():\n",
    "            setattr(self, k, v)\n",
    "        super().__init__()\n",
    "\n",
    "    def save(self):\n",
    "        fields = [k for k, v in self.fields.items()]\n",
    "        values = [v._value for k, v in self.fields.items()]\n",
    "        print(\"sql save:\", self._meta[\"db_table\"], fields, values)\n",
    "\n",
    "\n",
    "class User(BaseModel):\n",
    "    name = CharField(column=\"name\", max_len=100)\n",
    "    age = IntField(column=\"age\")\n",
    "\n",
    "    class Meta:\n",
    "        db_table = \"users\"\n",
    "\n",
    "\n",
    "if __name__ == '__main__':\n",
    "    u = User(name=\"xiaohei\", age=12)\n",
    "    u.save()\n"
   ]
  },
  {
   "cell_type": "code",
   "execution_count": null,
   "metadata": {},
   "outputs": [],
   "source": []
  }
 ],
 "metadata": {
  "kernelspec": {
   "display_name": "Python 3",
   "language": "python",
   "name": "python3"
  },
  "language_info": {
   "codemirror_mode": {
    "name": "ipython",
    "version": 3
   },
   "file_extension": ".py",
   "mimetype": "text/x-python",
   "name": "python",
   "nbconvert_exporter": "python",
   "pygments_lexer": "ipython3",
   "version": "3.6.8"
  }
 },
 "nbformat": 4,
 "nbformat_minor": 4
}
