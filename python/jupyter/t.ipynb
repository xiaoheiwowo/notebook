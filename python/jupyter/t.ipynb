{
 "cells": [
  {
   "cell_type": "code",
   "execution_count": 28,
   "metadata": {},
   "outputs": [
    {
     "name": "stdout",
     "output_type": "stream",
     "text": [
      "(<class '__main__.D'>, <class '__main__.B'>, <class '__main__.C'>, <class '__main__.A'>, <class 'object'>)\n",
      "(<class '__main__.F'>, <class '__main__.E'>, <class '__main__.C'>, <class '__main__.B'>, <class '__main__.A'>, <class 'object'>)\n",
      "F\n",
      "<super: <class 'F'>, <F object>>\n",
      "E\n",
      "<super: <class 'C'>, <F object>>\n",
      "B\n"
     ]
    }
   ],
   "source": [
    "class A(object):\n",
    "    def f(self):\n",
    "        print('A')\n",
    "        \n",
    "class B(A):\n",
    "    def f(self):\n",
    "        print('B')\n",
    "\n",
    "class C(A):\n",
    "    def f(self):\n",
    "        print('C')\n",
    "\n",
    "class D(B, C):\n",
    "    def f(self):\n",
    "        print('D')\n",
    "        super(D, self).f()\n",
    "        \n",
    "\n",
    "class E(C, B):\n",
    "    def f(self):\n",
    "        print('E')\n",
    "        print(super(C, self))\n",
    "        super(C, self).f()\n",
    "\n",
    "class F(E, B, A):\n",
    "    def f(self):\n",
    "        print('F')\n",
    "        print(super(F, self))\n",
    "        super(F, self).f()\n",
    "        \n",
    "d = D()\n",
    "print(D.__mro__)\n",
    "# d.f()\n",
    "\n",
    "f = F()\n",
    "print(F.__mro__)\n",
    "f.f()"
   ]
  },
  {
   "cell_type": "code",
   "execution_count": 40,
   "metadata": {},
   "outputs": [
    {
     "data": {
      "text/plain": [
       "28"
      ]
     },
     "execution_count": 40,
     "metadata": {},
     "output_type": "execute_result"
    }
   ],
   "source": [
    "import sys\n",
    "sys.getsizeof(1)"
   ]
  },
  {
   "cell_type": "code",
   "execution_count": 41,
   "metadata": {},
   "outputs": [
    {
     "data": {
      "text/plain": [
       "(10914496, 10914528)"
      ]
     },
     "execution_count": 41,
     "metadata": {},
     "output_type": "execute_result"
    }
   ],
   "source": [
    "id(1),id(2)"
   ]
  },
  {
   "cell_type": "code",
   "execution_count": 42,
   "metadata": {},
   "outputs": [
    {
     "data": {
      "text/plain": [
       "140670159149832"
      ]
     },
     "execution_count": 42,
     "metadata": {},
     "output_type": "execute_result"
    }
   ],
   "source": [
    "id([1,2,3])"
   ]
  },
  {
   "cell_type": "code",
   "execution_count": 47,
   "metadata": {},
   "outputs": [
    {
     "name": "stdout",
     "output_type": "stream",
     "text": [
      "140670701772872\n",
      "140670518783240\n"
     ]
    }
   ],
   "source": [
    "def f():\n",
    "    q = ()\n",
    "    print(id(q))\n",
    "    pass\n",
    "f()\n",
    "print(id(f))"
   ]
  },
  {
   "cell_type": "code",
   "execution_count": 51,
   "metadata": {},
   "outputs": [
    {
     "data": {
      "text/plain": [
       "(461, 1, 9)"
      ]
     },
     "execution_count": 51,
     "metadata": {},
     "output_type": "execute_result"
    }
   ],
   "source": [
    "import gc\n",
    "gc.get_count()"
   ]
  },
  {
   "cell_type": "code",
   "execution_count": 61,
   "metadata": {},
   "outputs": [
    {
     "name": "stdout",
     "output_type": "stream",
     "text": [
      "/home/ubuntu/notebook\n",
      "/home\n",
      ".xz my.cnf.tar ['.cnf', '.tar', '.xz']\n"
     ]
    }
   ],
   "source": [
    "import pathlib\n",
    "p = pathlib.Path('/home/ubuntu')\n",
    "print(p / 'notebook')\n",
    "print(p.parents[0])\n",
    "# Path('new.txt').touch()\n",
    "p = pathlib.Path('/usr/local/etc/my.cnf.tar.xz')\n",
    "print(p.suffix, p.stem, p.suffixes)"
   ]
  },
  {
   "cell_type": "code",
   "execution_count": 66,
   "metadata": {},
   "outputs": [
    {
     "name": "stdout",
     "output_type": "stream",
     "text": [
      "7.480674743652344\n"
     ]
    }
   ],
   "source": [
    "import time\n",
    "def t():\n",
    "    a = time.time()\n",
    "    i = 0\n",
    "    sum = i\n",
    "    while i <= 87654321:\n",
    "        i += 1\n",
    "        sum += i\n",
    "    print(time.time() - a)\n",
    "t()"
   ]
  },
  {
   "cell_type": "code",
   "execution_count": 81,
   "metadata": {},
   "outputs": [
    {
     "name": "stdout",
     "output_type": "stream",
     "text": [
      "<str_iterator object at 0x7ff051ab2898>\n",
      "[('name', 'hh')]\n"
     ]
    }
   ],
   "source": [
    "print(iter('23423'))\n",
    "print(list(dict(name='hh').items()))"
   ]
  },
  {
   "cell_type": "code",
   "execution_count": 91,
   "metadata": {},
   "outputs": [
    {
     "data": {
      "text/plain": [
       "'\\x02'"
      ]
     },
     "execution_count": 91,
     "metadata": {},
     "output_type": "execute_result"
    }
   ],
   "source": [
    "chr(2).encode('utf8').decode('utf8')"
   ]
  },
  {
   "cell_type": "code",
   "execution_count": 113,
   "metadata": {},
   "outputs": [
    {
     "name": "stdout",
     "output_type": "stream",
     "text": [
      "functools.partial(<class 'map'>, operator.methodcaller('to_bytes', 1, 'big'))\n",
      "[b'3', b'3', b'3']\n",
      "[3, 3, 3, 3]\n"
     ]
    }
   ],
   "source": [
    "import operator\n",
    "import functools\n",
    "int_to_byte = operator.methodcaller('to_bytes', 1, 'big')\n",
    "iter_bytes = functools.partial(map, int_to_byte)\n",
    "print(iter_bytes)\n",
    "print(list(iter_bytes(bytes('333', encoding='utf-8'))))\n",
    "print(list(map(int, '3333')))"
   ]
  },
  {
   "cell_type": "code",
   "execution_count": 124,
   "metadata": {},
   "outputs": [
    {
     "data": {
      "text/plain": [
       "True"
      ]
     },
     "execution_count": 124,
     "metadata": {},
     "output_type": "execute_result"
    }
   ],
   "source": [
    "((0b11) & (1)) == 1"
   ]
  },
  {
   "cell_type": "code",
   "execution_count": 140,
   "metadata": {},
   "outputs": [
    {
     "name": "stdout",
     "output_type": "stream",
     "text": [
      "abd..e..cf..."
     ]
    }
   ],
   "source": [
    "f = \"dbeafc\"  # [\"d\", \"b\", \"e\", \"a\", \"f\", \"c\"]\n",
    "m = \"abdecf\"  #[\"a\", \"b\", \"d\", \"e\", \"c\", \"f\"]\n",
    "b = \"cfaebd\"  # [\"c\", \"f\", \"a\", \"e\", \"b\", \"d\"]\n",
    "\n",
    "class Node:\n",
    "    def __init__(self, value, left=None, right=None):\n",
    "        self.value = value\n",
    "        self.left = left\n",
    "        self.right = right\n",
    "    \n",
    "def print_tree(node):\n",
    "    if node is not None:\n",
    "        print(node.value, end=\"\")\n",
    "        print_tree(node.left)\n",
    "        print_tree(node.right)\n",
    "            \n",
    "# 生成补充二叉树           \n",
    "def g_tree(f, m):\n",
    "    if len(f) != len(m):\n",
    "        raise ValueError\n",
    "    if len(f) == 0:\n",
    "        return Node(\".\")\n",
    "    elif len(f) == 1:\n",
    "        return Node(m[0], Node(\".\"), Node(\".\"))\n",
    "    else:\n",
    "        lf, rf = f.split(m[0])\n",
    "        lm, rm = m[1:1+len(lf)], m[1+len(lf):]\n",
    "        return Node(m[0], g_tree(lf, lm), g_tree(rf, rm))\n",
    "    \n",
    "print_tree(g_tree(f, m))\n",
    "# 先序和后序遍历寻找子树 找到 k 使得 f = lf + k + rf, b = rb + k + lb 且 set(lf) == set(lb), set(rf) == set(rb) 说明 k 是父节点，左右分别是子树遍历\n",
    "\n",
    "# ?? 根据补充二叉树遍历生产二叉树\n",
    "e = \"abd..e..cf...\"\n",
    "\n"
   ]
  },
  {
   "cell_type": "code",
   "execution_count": 134,
   "metadata": {},
   "outputs": [
    {
     "name": "stdout",
     "output_type": "stream",
     "text": [
      "['a', 'b', 'd', <__main__.Node object at 0x7ff051b1d400>, <__main__.Node object at 0x7ff051b1d550>, 'e', <__main__.Node object at 0x7ff051b1d470>, <__main__.Node object at 0x7ff051b1d630>, 'c', 'f', <__main__.Node object at 0x7ff051b1d6a0>, <__main__.Node object at 0x7ff051b1d710>, <__main__.Node object at 0x7ff051b1d780>]\n",
      "['a', 'b', <__main__.Node object at 0x7ff051b11c50>, 'e', <__main__.Node object at 0x7ff051b1d470>, <__main__.Node object at 0x7ff051b1d630>, 'c', 'f', <__main__.Node object at 0x7ff051b1d6a0>, <__main__.Node object at 0x7ff051b1d710>, <__main__.Node object at 0x7ff051b1d780>]\n",
      "['a', 'b', <__main__.Node object at 0x7ff051b11c50>, <__main__.Node object at 0x7ff051b110b8>, 'c', 'f', <__main__.Node object at 0x7ff051b1d6a0>, <__main__.Node object at 0x7ff051b1d710>, <__main__.Node object at 0x7ff051b1d780>]\n",
      "['a', 'b', <__main__.Node object at 0x7ff051b11c50>, <__main__.Node object at 0x7ff051b110b8>, 'c', <__main__.Node object at 0x7ff051b1aa20>, <__main__.Node object at 0x7ff051b1d780>]\n",
      "['a', <__main__.Node object at 0x7ff051a66a90>, 'c', <__main__.Node object at 0x7ff051b1aa20>, <__main__.Node object at 0x7ff051b1d780>]\n",
      "['a', <__main__.Node object at 0x7ff051a66a90>, <__main__.Node object at 0x7ff051a66a20>]\n",
      "abdecf\n"
     ]
    }
   ],
   "source": [
    "class Node:\n",
    "    def __init__(self, value, left=None, right=None):\n",
    "        self.value = value\n",
    "        self.left = left\n",
    "        self.right = right\n",
    "\n",
    "\n",
    "def traversal(a):\n",
    "    if a.value is not None:\n",
    "        print(a.value, end=\"\")\n",
    "        traversal(a.left)\n",
    "        traversal(a.right)\n",
    "\n",
    "\n",
    "\n",
    "tree_str = \"abd..e..cf...\"\n",
    "\n",
    "def transfer(tree_str):\n",
    "    tree_list = list(tree_str)\n",
    "    for i in range(len(tree_list)):\n",
    "        if tree_list[i] == \".\":\n",
    "            tree_list[i] = Node(None)\n",
    "\n",
    "    i = 0\n",
    "    while len(tree_list) > 1:\n",
    "        if isinstance(tree_list[i+1], Node) and isinstance(tree_list[i+2], Node):\n",
    "            print(tree_list)\n",
    "            tree_list[i] = Node(tree_list[i], tree_list[i+1], tree_list[i+2])\n",
    "            tree_list.pop(i+2)\n",
    "            tree_list.pop(i+1)\n",
    "\n",
    "        if i < len(tree_list) - 3:\n",
    "            i += 1\n",
    "        else:\n",
    "            i = 0\n",
    "\n",
    "    return tree_list[0]\n",
    "\n",
    "\n",
    "traversal(transfer(tree_str))\n",
    "print(\"\")\n"
   ]
  },
  {
   "cell_type": "code",
   "execution_count": 135,
   "metadata": {},
   "outputs": [
    {
     "name": "stdout",
     "output_type": "stream",
     "text": [
      "1.7320508075688774\n"
     ]
    }
   ],
   "source": [
    "# 牛顿开方\n",
    "def sqrt(x):\n",
    "    z = x\n",
    "    for i in range(10):\n",
    "        z -= (z * z - x) / (2 * z)\n",
    "    return z\n",
    "print(sqrt(3))\n",
    "# 牛顿法是一种迭代求根法。\n",
    "# 第一步：我们先任意选定一个初始点x0和迭代误差\n",
    "# 第二步：xn+1=xn−f(xn)f′(xn)。反复迭代直到|xn+1−xn|<ϵ。\n",
    "# 最终的xn就是方程f(x)的近似解。\n",
    "# 对于逼近2–√，实际上就是求f(x)=x2−2的正根。\n",
    "# 先求出f′(x)=2x。2–√肯定在1到2之间，我们不妨选定x0=1.5，误差ϵ=0.00001。\n",
    "# 初始0：x0=1.5, f(x0)=0.25, f′(x0)=3, f(x0)/f′(x0)=0.08333\n",
    "# 迭代1：x1=1.5−0.08333=1.41667, f(x1)=0.00694, f′(x1)=2.83333, f(x1)/f′(x1)=0.00245\n",
    "# 迭代2：x2=1.41667−0.00245=1.41422, f(x2)=0.00001, f′(x2)=2.82843, f(x2)/f′(x2)=0.00001\n",
    "# 迭代3：x3=1.41422−0.00001=1.41421\n",
    "# 停止迭代，最终近似解就是1.41421."
   ]
  },
  {
   "cell_type": "code",
   "execution_count": 22,
   "metadata": {},
   "outputs": [
    {
     "name": "stdout",
     "output_type": "stream",
     "text": [
      "求和:  45\n"
     ]
    }
   ],
   "source": [
    "# yield from 委托生成器 \n",
    "# 帮助调用者处理生成器各种异常\n",
    "# 调用者到生成器建立双向通道\n",
    "\n",
    "def proxy_gen():\n",
    "    while True:\n",
    "        res = yield from gen_func()\n",
    "        print(\"求和: \", res)\n",
    "\n",
    "def gen_func():\n",
    "    total = 0\n",
    "    while True:\n",
    "        data = yield total\n",
    "        if data is None:\n",
    "            break\n",
    "        total += data\n",
    "    return total\n",
    "\n",
    "def main():\n",
    "    gen = proxy_gen()\n",
    "    next(gen)\n",
    "    for i in range(10):\n",
    "        gen.send(i)\n",
    "    gen.send(None)\n",
    "\n",
    "main()"
   ]
  },
  {
   "cell_type": "code",
   "execution_count": 19,
   "metadata": {},
   "outputs": [
    {
     "name": "stdout",
     "output_type": "stream",
     "text": [
      "123456789"
     ]
    }
   ],
   "source": [
    "# 迭代可迭代对象\n",
    "from collections import Iterable\n",
    "def mchain(*iters):\n",
    "    for i in iters:\n",
    "        if isinstance(i, Iterable):\n",
    "            yield from i\n",
    "        else:\n",
    "            yield i\n",
    "        \n",
    "for a in mchain([1, 2, 3], 4, range(5,10)):\n",
    "    print(a, end=\"\")"
   ]
  },
  {
   "cell_type": "code",
   "execution_count": 27,
   "metadata": {},
   "outputs": [
    {
     "name": "stdout",
     "output_type": "stream",
     "text": [
      "None\n",
      "asdf\n"
     ]
    }
   ],
   "source": [
    "class User:\n",
    "    def __init__(self, name, age):\n",
    "        self.name = name\n",
    "        self.age = age\n",
    "        self._hh = None\n",
    "        \n",
    "    @property\n",
    "    def hh(self):\n",
    "        return self._hh\n",
    "    \n",
    "    @hh.setter\n",
    "    def hh(self, value):\n",
    "        self._hh = value\n",
    "        \n",
    "        \n",
    "u = User(\"xiaohei\", 23)\n",
    "print(u.hh)\n",
    "u.hh = \"asdf\"\n",
    "print(u.hh)"
   ]
  },
  {
   "cell_type": "code",
   "execution_count": null,
   "metadata": {},
   "outputs": [],
   "source": [
    "# 元类实现orm\n",
    "# 数据描述符\n",
    "class Field:\n",
    "    def __init__(self, column=None):\n",
    "        self._value = None\n",
    "        self.column = column\n",
    "\n",
    "    def __get__(self, instance, owner):\n",
    "        return self._value\n",
    "\n",
    "\n",
    "class CharField(Field):\n",
    "    def __init__(self, column=None, max_len=None):\n",
    "        self.max_len = max_len\n",
    "        super(CharField, self).__init__(column)\n",
    "\n",
    "    def __set__(self, instance, value):\n",
    "        if not isinstance(value, str):\n",
    "            raise ValueError(\"Not str\")\n",
    "        self._value = value\n",
    "\n",
    "\n",
    "class IntField(Field):\n",
    "    def __set__(self, instance, value):\n",
    "        if not isinstance(value, int):\n",
    "            raise ValueError(\"Not int\")\n",
    "        self._value = value\n",
    "\n",
    "\n",
    "# Model\n",
    "class ModelMeta(type):\n",
    "    def __new__(cls, name, bases, attrs, **kwargs):\n",
    "        # type(name, bases, dict) -> a new type\n",
    "        if name == \"BaseModel\":\n",
    "            return super().__new__(cls, name, bases, attrs, **kwargs)\n",
    "        attrs[\"fields\"] = {}\n",
    "        attrs[\"_meta\"] = {}\n",
    "        for k, v in attrs.items():\n",
    "            if isinstance(v, Field):\n",
    "                attrs[\"fields\"][k] = v\n",
    "        attr_meta = attrs.get(\"Meta\")\n",
    "        if hasattr(attr_meta, \"db_table\"):\n",
    "            attrs[\"_meta\"][\"db_table\"] = attr_meta.db_table\n",
    "        else:\n",
    "            attrs[\"_meta\"][\"db_table\"] = name.lower()\n",
    "        del attrs[\"Meta\"]\n",
    "        return super().__new__(cls, name, bases, attrs, **kwargs)\n",
    "\n",
    "\n",
    "class BaseModel(metaclass=ModelMeta):\n",
    "    def __init__(self, *args, **kwargs):\n",
    "        for k, v in kwargs.items():\n",
    "            setattr(self, k, v)\n",
    "        super().__init__()\n",
    "\n",
    "    def save(self):\n",
    "        fields = [k for k, v in self.fields.items()]\n",
    "        values = [v._value for k, v in self.fields.items()]\n",
    "        print(\"sql save:\", self._meta[\"db_table\"], fields, values)\n",
    "\n",
    "\n",
    "class User(BaseModel):\n",
    "    name = CharField(column=\"name\", max_len=100)\n",
    "    age = IntField(column=\"age\")\n",
    "\n",
    "    class Meta:\n",
    "        db_table = \"users\"\n",
    "\n",
    "\n",
    "if __name__ == '__main__':\n",
    "    u = User(name=\"xiaohei\", age=12)\n",
    "    u.save()\n"
   ]
  },
  {
   "cell_type": "code",
   "execution_count": 4,
   "metadata": {},
   "outputs": [
    {
     "name": "stdout",
     "output_type": "stream",
     "text": [
      "True\n"
     ]
    }
   ],
   "source": [
    "l = [[0] * 3] * 3\n",
    "print(id(l[0]) == id(l[1]) == id(l[2]))"
   ]
  },
  {
   "cell_type": "code",
   "execution_count": 45,
   "metadata": {},
   "outputs": [],
   "source": [
    "# 斗地主最长顺子\n",
    "cards = [2, 3, 4, 7, 8, 9, 10]\n",
    "\n",
    "\n",
    "def get_longest(ar):\n",
    "    dp = [1 for i in range(len(ar))]\n",
    "\n",
    "    for i in range(1, len(ar)):\n",
    "        if ar[i] - 1 == ar[i - 1]:\n",
    "            dp[i] = dp[i - 1] + 1\n",
    "\n",
    "    return max(dp)"
   ]
  },
  {
   "cell_type": "code",
   "execution_count": null,
   "metadata": {},
   "outputs": [],
   "source": [
    "def get_longest_sub_str(a):\n",
    "    if len(a) < 2:\n",
    "        return a\n",
    "    length = len(a)\n",
    "    dp = [[0 for i in a] for j in a]\n",
    "    for row in range(length):\n",
    "        for col in range(length):\n",
    "            if col - row == 0:\n",
    "                dp[row][col] = 1\n",
    "    # for d in dp:\n",
    "    #     print(d)\n",
    "    res = a[0]\n",
    "    for i in range(1, len(a)):\n",
    "        for j in range(1 + i, len(a)):\n",
    "            # print(i, j)\n",
    "            if (dp[i + 1][j - 1] == 1 or j - i == 1) and a[i] == a[j]:\n",
    "                dp[i][j] = 1\n",
    "                if len(a[i:j+1]) > len(res):\n",
    "                    res = a[i:j+1]\n",
    "    # print(\"==================\")\n",
    "    # for d in dp:\n",
    "    #     print(d)\n",
    "    return res"
   ]
  },
  {
   "cell_type": "code",
   "execution_count": null,
   "metadata": {},
   "outputs": [],
   "source": [
    "# 回溯生成括号\n",
    "def gen_brackets(n, i, sub_str):\n",
    "    if i == 2 * n:\n",
    "        print(sub_str)\n",
    "        return\n",
    "\n",
    "    sub_str += \"(\"\n",
    "    gen_brackets(n, i+1, sub_str)\n",
    "    sub_str = sub_str[:-1]\n",
    "\n",
    "    sub_str += \")\"\n",
    "    gen_brackets(n, i+1, sub_str)\n",
    "    sub_str = sub_str[:-1]\n",
    "    \n",
    "    \n",
    "# 生成有效括号\n",
    "def valid_bracket(left, right, sub_str):\n",
    "    if left > right:\n",
    "        return\n",
    "    elif left < 0 or right < 0:\n",
    "        return\n",
    "    elif left == 0 and right == 0:\n",
    "        print(sub_str)\n",
    "        return\n",
    "\n",
    "    sub_str += \"(\"\n",
    "    valid_bracket(left-1, right, sub_str)\n",
    "    sub_str = sub_str[:-1]\n",
    "\n",
    "    sub_str += \")\"\n",
    "    valid_bracket(left, right-1, sub_str)\n",
    "    sub_str = sub_str[:-1]\n",
    "s = input()\n",
    "\n",
    "h = {\n",
    "    \"]\": \"[\",\n",
    "    \"}\": \"{\",\n",
    "    \")\": \"(\"\n",
    "}\n",
    "\n",
    "# 有效括号\n",
    "stack = []\n",
    "for c in s:\n",
    "    if c in \"([{\":\n",
    "        stack.append(c)\n",
    "    else:\n",
    "        if len(stack) > 0 and stack[-1] == h[c]:\n",
    "            stack.pop(-1)\n",
    "        else:\n",
    "            stack.append(c)\n",
    "# while s:\n",
    "#     if \"()\" in s:\n",
    "#         s.replace(\"()\", \"\")\n",
    "#     elif \"{}\" in s:\n",
    "#         s.replace(\"{}\", \"\")\n",
    "#     elif \"[]\" in s:\n",
    "#         s.replace(\"[]\", \"\")\n",
    "#     else:\n",
    "#         break\n",
    "print(stack)\n",
    "print(0 if s else 1)"
   ]
  },
  {
   "cell_type": "code",
   "execution_count": null,
   "metadata": {},
   "outputs": [],
   "source": [
    "# 基本认证\n",
    "from flask import Flask, Response, request\n",
    "\n",
    "app = Flask(\"basic_auth\")\n",
    "\n",
    "\n",
    "@app.route(\"/index\")\n",
    "def index():\n",
    "    print(request.authorization)\n",
    "    if request.authorization and request.authorization.password:\n",
    "        return Response(\"OK\", 200)\n",
    "    return Response('需要登录', 401, {'WWW-Authenticate': 'Basic realm=\"Login Required\"'})\n",
    "\n",
    "\n",
    "if __name__ == '__main__':\n",
    "    app.run()\n",
    "    \n",
    "# 摘要认证\n",
    "from flask import Flask, Response, request, session\n",
    "import uuid\n",
    "import random\n",
    "from hashlib import md5\n",
    "from flask_httpauth import HTTPDigestAuth\n",
    "\n",
    "app = Flask(\"digest\")\n",
    "app.config['SECRET_KEY'] = 'secret key here'\n",
    "\n",
    "# auth = HTTPDigestAuth()\n",
    "# users = {\n",
    "#     \"john\": \"hello\",\n",
    "#     \"susan\": \"bye\"\n",
    "# }\n",
    "\n",
    "# @auth.get_password\n",
    "# def get_pw(username):\n",
    "#     if username in users:\n",
    "#         return users.get(username)\n",
    "#     return None\n",
    "\n",
    "\n",
    "@app.route(\"/\")\n",
    "# @auth.login_required\n",
    "def index():\n",
    "    # print(auth.username())\n",
    "    print(\"res\", session.get(\"abc\"))\n",
    "    print(\"Authorization\", request.headers.get(\"Authorization\"))\n",
    "    # print(request.authorization)\n",
    "    # nonce = str(uuid.uuid4()).replace(\"-\", \"\")\n",
    "    # print(request.headers)\n",
    "    r = md5(str(random.random()).encode(\"utf-8\")).hexdigest()\n",
    "    print(\"gen\", r)\n",
    "    session[\"abc\"] = r\n",
    "    h = {\n",
    "        'WWW-Authenticate': f'Digest realm=\"Login Required\",qop=\"auth,auth-int\",nonce=\"{r}\",opaque=\"5ccc069c403ebaf9f0171e9517f40e41\"',\n",
    "    }\n",
    "    return Response(\n",
    "        f\"{r}\", 401,\n",
    "        h\n",
    "    )\n",
    "\n",
    "\n",
    "if __name__ == '__main__':\n",
    "    app.run(debug=True)\n"
   ]
  },
  {
   "cell_type": "code",
   "execution_count": null,
   "metadata": {},
   "outputs": [],
   "source": [
    "# 非阻塞socket\n",
    "from select import select\n",
    "from socket import socket\n",
    "\n",
    "s = socket()\n",
    "s.bind((\"localhost\", 8001))\n",
    "s.listen()\n",
    "s.setblocking(False)\n",
    "print(\"server: \", s)\n",
    "\n",
    "inputs = [s, ]\n",
    "outputs = []\n",
    "errors = []\n",
    "\n",
    "try:\n",
    "    while True:\n",
    "        rl, wl, el = select(inputs, outputs, errors, 1)\n",
    "        print(rl, wl, el)\n",
    "        for r in rl:\n",
    "\n",
    "            if r == s:\n",
    "                conn, addr = r.accept()\n",
    "                inputs.append(conn)\n",
    "                print(\"client: \", conn)\n",
    "            else:\n",
    "                try:\n",
    "                    data_bytes = r.recv(1024)\n",
    "                    print(data_bytes)\n",
    "                except:\n",
    "                    inputs.remove(r)\n",
    "                else:\n",
    "                    outputs.append(r)\n",
    "\n",
    "        for w in wl:\n",
    "            try:\n",
    "                w.send(\"recv\".encode(\"utf-8\"))\n",
    "            except:\n",
    "                print(\"error\")\n",
    "            outputs.remove(w)\n",
    "\n",
    "        for e in el:\n",
    "            inputs.remove(e)\n",
    "\n",
    "except KeyboardInterrupt:\n",
    "    s.close()\n",
    "    print(\"close\")"
   ]
  },
  {
   "cell_type": "code",
   "execution_count": null,
   "metadata": {},
   "outputs": [],
   "source": [
    "import json\n",
    "from socketserver import ThreadingTCPServer, BaseRequestHandler\n",
    "from flask import Flask\n",
    "from http.server import ThreadingHTTPServer, HTTPServer, BaseHTTPRequestHandler, SimpleHTTPRequestHandler\n",
    "\n",
    "\n",
    "class MyHandler(BaseRequestHandler):\n",
    "    def handle(self):\n",
    "        # print(self)\n",
    "        data = self.request.recv(1024)\n",
    "        print(data.decode())\n",
    "        print(data)\n",
    "        # print(self.server._threads)\n",
    "        self.request.send(\"HTTP/1.1 200 OK\\r\\nContent-Type: application/text\\r\\n\\r\\nabcd\\r\\n\".encode())\n",
    "        # self.request.sendall(\"ok\".encode())\n",
    "\n",
    "\n",
    "# with ThreadingTCPServer((\"localhost\", 5000), MyHandler) as s:\n",
    "#     s.serve_forever()\n",
    "\n",
    "\n",
    "class MyHttpHandler(BaseHTTPRequestHandler):\n",
    "    # def handle(self):\n",
    "    #     # print(self.command)\n",
    "    #     self.raw_requestline = self.request.recv()\n",
    "    #     req = self.parse_request()\n",
    "    #     print(\"req: \", req)\n",
    "    #     self.request.send(\"HTTP/1.1 200 OK\\r\\nContent-Type: application/text\\r\\n\\r\\nabcd\\r\\n\".encode())\n",
    "\n",
    "    def do_GET(self):\n",
    "        self.log_message(\"do get\")\n",
    "        self.send_response(200, \"ok\")\n",
    "        self.send_header('Content-type', 'application/json')\n",
    "        self.end_headers()\n",
    "        self.wfile.write(json.dumps(dict(code=200, message=\"ok\", data={})).encode())\n",
    "\n",
    "\n",
    "def run(server_class=HTTPServer, handler_class=MyHttpHandler):\n",
    "    server_address = ('', 5000)\n",
    "    httpd = server_class(server_address, handler_class)\n",
    "    httpd.serve_forever()\n",
    "\n",
    "\n",
    "# run()\n",
    "\n",
    "\n"
   ]
  },
  {
   "cell_type": "code",
   "execution_count": null,
   "metadata": {},
   "outputs": [],
   "source": [
    "\"\"\"\n",
    "# Install\n",
    "1, 安装chrome\n",
    "2, 安装对应版本的chromedriver\n",
    "    chromedriver http://npm.taobao.org/mirrors/chromedriver/\n",
    "3, 安装selenium\n",
    "\n",
    "# Run\n",
    "python3 oa_auto.py\n",
    "\n",
    "\"\"\"\n",
    "import time\n",
    "from selenium import webdriver\n",
    "from selenium.webdriver.support.select import Select\n",
    "from datetime import datetime\n",
    "\n",
    "from selenium.webdriver.chrome.options import Options\n",
    "\n",
    "# b = webdriver.Chrome(chrome_options=chrome_options)\n",
    "USERS = [\n",
    "    {'username': \"000541\", \"password\": \"ZHUOlang123\"},\n",
    "    {'username': \"000403\", \"password\": \"ZHUOlang123\"},\n",
    "    # {'username': \"000578\", \"password\": \"ZHUOlang123\"},\n",
    "]\n",
    "\n",
    "\n",
    "def try_oa(username, password):\n",
    "    chrome_options = Options()\n",
    "    chrome_options.add_argument('--no-sandbox')\n",
    "    chrome_options.add_argument('--disable-dev-shm-usage')\n",
    "    chrome_options.add_argument('--headless')\n",
    "    b = webdriver.Chrome(chrome_options=chrome_options)\n",
    "    try:\n",
    "        b.get(\"http://oa.troila.com\")\n",
    "        b.implicitly_wait(10)\n",
    "        # 登录\n",
    "        b.find_element_by_id(\"loginid\").send_keys(username)  # 工号\n",
    "        b.find_element_by_id(\"userpassword\").send_keys(password)  # 密码\n",
    "        b.find_element_by_id(\"login\").click()\n",
    "        b.implicitly_wait(10)\n",
    "        try:\n",
    "            b.find_element_by_xpath(\"//input[@class='zd_btn_cancle btn_submit']\").click()\n",
    "        except Exception as e:\n",
    "            print(e)\n",
    "\n",
    "        # 打开表格\n",
    "        b.switch_to.frame(\"mainFrame\")\n",
    "        time.sleep(2)\n",
    "        # 判断已办是否有今天的\n",
    "        b.find_element_by_css_selector('[title=\"已办\"]').click()\n",
    "        try:\n",
    "            b.find_element_by_css_selector(\".reqdetail\")\n",
    "            print(f\"    {username} 已经填写\")\n",
    "            return True\n",
    "        except:\n",
    "            pass\n",
    "        # 判断完成是否有今天的\n",
    "        b.find_element_by_css_selector('[title=\"完成\"]').click()\n",
    "        try:\n",
    "            b.find_element_by_css_selector(f\"[title^='人员状况统计表'][title$='{str(datetime.now().date())}']\")\n",
    "            print(f\"    {username} 已经填写\")\n",
    "            return True\n",
    "        except:\n",
    "            pass\n",
    "        b.find_element_by_xpath(\"//div[@class='slideContinar slideritem']/div[@class='slideDiv']\").click()\n",
    "        b.implicitly_wait(10)\n",
    "\n",
    "        # 切窗口\n",
    "        time.sleep(1)\n",
    "        b.switch_to.window(b.window_handles[-1])\n",
    "        b.implicitly_wait(10)\n",
    "\n",
    "        b.switch_to.frame(\"bodyiframe\")\n",
    "        time.sleep(5)\n",
    "\n",
    "        # 填表\n",
    "        Select(b.find_element_by_id(\"field12540\")).select_by_index(1)\n",
    "        b.switch_to.default_content()\n",
    "        # while True:\n",
    "        #     try:\n",
    "        #         pass\n",
    "        #     except KeyboardInterrupt:\n",
    "        #         return True\n",
    "        b.find_element_by_class_name(\"e8_btn_top_first\").click()\n",
    "        b.quit()\n",
    "        # b.close()\n",
    "        # b.switch_to.window(b.window_handles[0])\n",
    "        # b.find_element_by_xpath(\"//div[@class='tbItm f12 quit']\").click()\n",
    "        # b.find_element_by_xpath(\"//input[@class='zd_btn_submit']\").click()\n",
    "        return True\n",
    "    except Exception as e:\n",
    "        print(e)\n",
    "        return False\n",
    "    finally:\n",
    "        b.quit()\n",
    "\n",
    "\n",
    "if __name__ == '__main__':\n",
    "    for user in USERS:\n",
    "        if try_oa(user[\"username\"], user[\"password\"]):\n",
    "            print(\">>>\" + f\" {user['username']} \" + str(datetime.now()) + \"  ok\")\n"
   ]
  },
  {
   "cell_type": "code",
   "execution_count": 19,
   "metadata": {},
   "outputs": [
    {
     "data": {
      "text/plain": [
       "25"
      ]
     },
     "execution_count": 19,
     "metadata": {},
     "output_type": "execute_result"
    }
   ],
   "source": [
    "# 异或求和\n",
    "def my_add(a, b):\n",
    "    while a != 0:\n",
    "        tmp = a ^ b\n",
    "        a = (a & b) << 1\n",
    "        b = tmp\n",
    "    return b\n",
    "\n",
    "my_add(12, 13)"
   ]
  },
  {
   "cell_type": "code",
   "execution_count": 20,
   "metadata": {},
   "outputs": [
    {
     "name": "stdout",
     "output_type": "stream",
     "text": [
      "2\n"
     ]
    }
   ],
   "source": [
    "# 阶乘末尾0的个数\n",
    "def tail_zero_count(n):\n",
    "    res = 0\n",
    "    while n != 0:\n",
    "        res += n // 5\n",
    "        n = n // 5\n",
    "    return res\n",
    "\n",
    "print(tail_zero_count(10))"
   ]
  },
  {
   "cell_type": "code",
   "execution_count": 43,
   "metadata": {},
   "outputs": [],
   "source": [
    "# 逻辑运算代替算数运算求和 python 的赋值语句好像不支持逻辑运算\n",
    "\n",
    "public int f(int n) {\n",
    "    int sum = n;\n",
    "    boolean t = (n != 0) && (sum += f(n - 1))!= 0;\n",
    "    return sum;\n",
    "}\n",
    "\n"
   ]
  },
  {
   "cell_type": "code",
   "execution_count": 39,
   "metadata": {},
   "outputs": [],
   "source": [
    "# 数组下标计数\n",
    "# 异或消除相同数 异或的性质 n ^ n = 0; n ^ 0 = n\n",
    "# 移位运算代替乘除2 二进制判断奇数偶数\n",
    "# 大数相乘 分治 主定理求复杂度\n",
    "# 由0到n递推斐波那契"
   ]
  },
  {
   "cell_type": "code",
   "execution_count": 44,
   "metadata": {},
   "outputs": [],
   "source": [
    "# (n & (n - 1)) == 0 ## n 是2的整次幂"
   ]
  },
  {
   "cell_type": "code",
   "execution_count": 41,
   "metadata": {},
   "outputs": [
    {
     "data": {
      "text/plain": [
       "5"
      ]
     },
     "execution_count": 41,
     "metadata": {},
     "output_type": "execute_result"
    }
   ],
   "source": [
    "#约瑟夫环 old = (new + m - 1) % n + 1  ???\n",
    "\n",
    "def f(n, m):\n",
    "    #return n == 1 ? n : (f(n - 1, m) + m - 1) % n + 1;\n",
    "    return n if n == 1 else (f(n - 1, m) + m - 1) % n + 1\n",
    "\n",
    "f(10, 4)"
   ]
  },
  {
   "cell_type": "code",
   "execution_count": null,
   "metadata": {},
   "outputs": [],
   "source": [
    "# select 管理socket 非阻塞\n",
    "from select import select\n",
    "from socket import socket\n",
    "\n",
    "s = socket()\n",
    "s.bind((\"localhost\", 8001))\n",
    "s.listen()\n",
    "s.setblocking(False)\n",
    "print(\"server: \", s)\n",
    "\n",
    "inputs = [s, ]\n",
    "outputs = []\n",
    "errors = []\n",
    "\n",
    "try:\n",
    "    while True:\n",
    "        rl, wl, el = select(inputs, outputs, errors, 1)\n",
    "        print(rl, wl, el)\n",
    "        for r in rl:\n",
    "\n",
    "            if r == s:\n",
    "                conn, addr = r.accept()\n",
    "                inputs.append(conn)\n",
    "                print(\"client: \", conn)\n",
    "            else:\n",
    "                try:\n",
    "                    data_bytes = r.recv(1024)\n",
    "                    print(data_bytes)\n",
    "                except:\n",
    "                    inputs.remove(r)\n",
    "                else:\n",
    "                    outputs.append(r)\n",
    "\n",
    "        for w in wl:\n",
    "            try:\n",
    "                w.send(\"recv\".encode(\"utf-8\"))\n",
    "            except:\n",
    "                print(\"error\")\n",
    "            outputs.remove(w)\n",
    "\n",
    "        for e in el:\n",
    "            inputs.remove(e)\n",
    "\n",
    "except KeyboardInterrupt:\n",
    "    s.close()\n",
    "    print(\"close\")"
   ]
  },
  {
   "cell_type": "code",
   "execution_count": null,
   "metadata": {},
   "outputs": [],
   "source": [
    "# 快排\n",
    "def quick_sort(a):\n",
    "    return a if len(a) <= 1 else quick_sort(\n",
    "        [i for i in a[1:] if i < a[0]]) + [a[0]] + quick_sort([j for j in a[1:] if j > a[0]])\n",
    "\n",
    "\n",
    "\n",
    "def quick_sort2(a, start, end):\n",
    "    if end - start <= 1:\n",
    "        return\n",
    "    x = a[start]\n",
    "    p = start\n",
    "    for i in range(start+1, end):\n",
    "        if a[i] <= x:\n",
    "            a.insert(p, a.pop(i))\n",
    "            p += 1\n",
    "    quick_sort2(a, start, p)\n",
    "    quick_sort2(a, p + 1, end)\n",
    "    return a"
   ]
  },
  {
   "cell_type": "code",
   "execution_count": 47,
   "metadata": {},
   "outputs": [
    {
     "name": "stdout",
     "output_type": "stream",
     "text": [
      "0.7017033100128174\n"
     ]
    }
   ],
   "source": [
    "# 多线程生成随机数\n",
    "import threading\n",
    "from queue import Queue\n",
    "import random\n",
    "import time\n",
    "\n",
    "start = time.time()\n",
    "\n",
    "def gen_random():\n",
    "    for i in range(100):\n",
    "        q.put(random.randint(0, 1000))\n",
    "    q.put(-1)\n",
    "\n",
    "q = Queue()\n",
    "\n",
    "threadings = []\n",
    "\n",
    "for i in range(1000):\n",
    "    threadings.append(threading.Thread(target=gen_random))\n",
    "    threadings[-1].start()\n",
    "#\n",
    "# for t in threadings:\n",
    "#     t.join()\n",
    "\n",
    "count = 0\n",
    "\n",
    "while count < 1000:\n",
    "    if q.empty():\n",
    "        continue\n",
    "    a = q.get()\n",
    "    if a == -1:\n",
    "        count += 1\n",
    "        continue\n",
    "    if a < 100:\n",
    "        print(a)\n",
    "        pass\n",
    "\n",
    "print(time.time() - start)\n"
   ]
  },
  {
   "cell_type": "code",
   "execution_count": null,
   "metadata": {},
   "outputs": [],
   "source": [
    "# 递归链表逆序\n",
    "def reverse_list(head):\n",
    "    if not head or not head.next:\n",
    "        return head\n",
    "\n",
    "    tail = reverse_list(head.next)\n",
    "\n",
    "    t = head.next\n",
    "    t.next = head\n",
    "    head.next = None\n",
    "\n",
    "    return tail\n",
    "\n",
    "# 循环\n",
    "def reverse_list2(head):\n",
    "    last = None\n",
    "    while head:\n",
    "        pre = head.next\n",
    "        head.next = last\n",
    "        # 为下一次循环做准备\n",
    "        last = head\n",
    "        head = pre\n",
    "    return last"
   ]
  },
  {
   "cell_type": "code",
   "execution_count": null,
   "metadata": {},
   "outputs": [],
   "source": [
    "# rabbitmq python demo\n",
    "import pika\n",
    "\n",
    "\n",
    "def callback(ch, method, properties, body):\n",
    "    ch.basic_ack(delivery_tag=method.delivery_tag)\n",
    "    print(\" [x] Received %r\" % (body,))\n",
    "\n",
    "\n",
    "# 消费者\n",
    "if __name__ == '__main__':\n",
    "    credentials = pika.PlainCredentials('admin', 'admin')\n",
    "    connection = pika.BlockingConnection(pika.ConnectionParameters(host='localhost', credentials=credentials))\n",
    "    # 创建频道\n",
    "    channel = connection.channel()\n",
    "    # 声明queue\n",
    "    # channel.queue_declare(queue='python')\n",
    "    channel.queue_bind(exchange=\"daka.test.hr\", routing_key=\"r2\", queue=\"python\")\n",
    "\n",
    "    print(' [*] Waiting for messages. To exit press CTRL+C')\n",
    "\n",
    "    # 收到指定消息的回调设置\n",
    "    channel.basic_consume(queue='python', on_message_callback=callback)\n",
    "    # 开始循环监听\n",
    "    channel.start_consuming()\n",
    "\n",
    "# 生产者\n",
    "if __name__ == '__main__':\n",
    "    # 创建一个connection\n",
    "    credentials = pika.PlainCredentials('admin', 'admin')\n",
    "    connection = pika.BlockingConnection(pika.ConnectionParameters(host='localhost', port=5672, credentials=credentials))\n",
    "    channel = connection.channel()\n",
    "    # channel.exchange_declare(exchange=\"\", exchange_type=\"fanout\")\n",
    "    # 声明一个queue\n",
    "    channel.queue_declare(queue='python')\n",
    "\n",
    "    # exchange为空的时候，routing_key就是指定的queue值\n",
    "    channel.basic_publish(exchange='daka.test.hr', routing_key='r2', body='Hello World!')\n",
    "    print(\" [x] Sent 'Hello World!'\")\n",
    "    # 关闭连接\n",
    "    connection.close()\n",
    "\n",
    "\n"
   ]
  }
 ],
 "metadata": {
  "kernelspec": {
   "display_name": "Python 3",
   "language": "python",
   "name": "python3"
  },
  "language_info": {
   "codemirror_mode": {
    "name": "ipython",
    "version": 3
   },
   "file_extension": ".py",
   "mimetype": "text/x-python",
   "name": "python",
   "nbconvert_exporter": "python",
   "pygments_lexer": "ipython3",
   "version": "3.6.8"
  }
 },
 "nbformat": 4,
 "nbformat_minor": 4
}
